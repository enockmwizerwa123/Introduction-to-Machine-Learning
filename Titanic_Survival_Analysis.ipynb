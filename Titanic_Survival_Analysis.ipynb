{
  "nbformat": 4,
  "nbformat_minor": 0,
  "metadata": {
    "colab": {
      "provenance": [],
      "authorship_tag": "ABX9TyM12CjH+/jKln3GX63ui8sL",
      "include_colab_link": true
    },
    "kernelspec": {
      "name": "python3",
      "display_name": "Python 3"
    },
    "language_info": {
      "name": "python"
    }
  },
  "cells": [
    {
      "cell_type": "markdown",
      "metadata": {
        "id": "view-in-github",
        "colab_type": "text"
      },
      "source": [
        "<a href=\"https://colab.research.google.com/github/enockmwizerwa123/Introduction-to-Machine-Learning/blob/main/Titanic_Survival_Analysis.ipynb\" target=\"_parent\"><img src=\"https://colab.research.google.com/assets/colab-badge.svg\" alt=\"Open In Colab\"/></a>"
      ]
    },
    {
      "cell_type": "code",
      "execution_count": null,
      "metadata": {
        "id": "DVjXEvvPhjjh"
      },
      "outputs": [],
      "source": [
        "#!pip install mysql-connector-python"
      ]
    },
    {
      "cell_type": "code",
      "source": [],
      "metadata": {
        "id": "F6Wkj3o2j6pR"
      },
      "execution_count": null,
      "outputs": []
    },
    {
      "cell_type": "code",
      "source": [
        "import pandas as pd\n",
        "import numpy as np\n",
        "import matplotlib.pyplot as plt\n",
        "import seaborn as sns\n",
        "import warnings\n",
        "warnings.filterwarnings(\"ignore\")\n",
        "%matplotlib inline"
      ],
      "metadata": {
        "id": "xUw7qJUPkv1T"
      },
      "execution_count": 1,
      "outputs": []
    },
    {
      "cell_type": "code",
      "source": [
        "from sklearn.model_selection import train_test_split\n",
        "from sklearn.preprocessing import StandardScaler, Normalizer\n",
        "from sklearn.ensemble import RandomForestClassifier\n",
        "#from sklearn.svm import SVC\n",
        "from imblearn.over_sampling import ADASYN, SMOTE\n",
        "from sklearn.metrics import (\n",
        " classification_report,confusion_matrix,accuracy_score,\n",
        " fbeta_score,\n",
        " make_scorer,\n",
        " recall_score,\n",
        ")\n"
      ],
      "metadata": {
        "id": "DEZ5N15olzRF"
      },
      "execution_count": 2,
      "outputs": []
    },
    {
      "cell_type": "code",
      "source": [
        "data_train = pd.read_csv(\"/content/train_Titanic.csv\")\n",
        "data_test = pd.read_csv(\"/content/test_Titanic.csv\")"
      ],
      "metadata": {
        "id": "hexhusAJnOu5"
      },
      "execution_count": 3,
      "outputs": []
    },
    {
      "cell_type": "code",
      "source": [
        "data_train.head()"
      ],
      "metadata": {
        "colab": {
          "base_uri": "https://localhost:8080/",
          "height": 466
        },
        "id": "m4ukhwmwnOrw",
        "outputId": "bbeb26c3-e4a6-4c82-cea4-10cf5248a0dc"
      },
      "execution_count": 4,
      "outputs": [
        {
          "output_type": "execute_result",
          "data": {
            "text/plain": [
              "   PassengerId  Survived  Pclass  \\\n",
              "0            1         0       3   \n",
              "1            2         1       1   \n",
              "2            3         1       3   \n",
              "3            4         1       1   \n",
              "4            5         0       3   \n",
              "\n",
              "                                                Name     Sex   Age  SibSp  \\\n",
              "0                            Braund, Mr. Owen Harris    male  22.0      1   \n",
              "1  Cumings, Mrs. John Bradley (Florence Briggs Th...  female  38.0      1   \n",
              "2                             Heikkinen, Miss. Laina  female  26.0      0   \n",
              "3       Futrelle, Mrs. Jacques Heath (Lily May Peel)  female  35.0      1   \n",
              "4                           Allen, Mr. William Henry    male  35.0      0   \n",
              "\n",
              "   Parch            Ticket     Fare Cabin Embarked  \n",
              "0      0         A/5 21171   7.2500   NaN        S  \n",
              "1      0          PC 17599  71.2833   C85        C  \n",
              "2      0  STON/O2. 3101282   7.9250   NaN        S  \n",
              "3      0            113803  53.1000  C123        S  \n",
              "4      0            373450   8.0500   NaN        S  "
            ],
            "text/html": [
              "\n",
              "  <div id=\"df-8d0c72be-f2c6-4261-b217-b413bab412d2\" class=\"colab-df-container\">\n",
              "    <div>\n",
              "<style scoped>\n",
              "    .dataframe tbody tr th:only-of-type {\n",
              "        vertical-align: middle;\n",
              "    }\n",
              "\n",
              "    .dataframe tbody tr th {\n",
              "        vertical-align: top;\n",
              "    }\n",
              "\n",
              "    .dataframe thead th {\n",
              "        text-align: right;\n",
              "    }\n",
              "</style>\n",
              "<table border=\"1\" class=\"dataframe\">\n",
              "  <thead>\n",
              "    <tr style=\"text-align: right;\">\n",
              "      <th></th>\n",
              "      <th>PassengerId</th>\n",
              "      <th>Survived</th>\n",
              "      <th>Pclass</th>\n",
              "      <th>Name</th>\n",
              "      <th>Sex</th>\n",
              "      <th>Age</th>\n",
              "      <th>SibSp</th>\n",
              "      <th>Parch</th>\n",
              "      <th>Ticket</th>\n",
              "      <th>Fare</th>\n",
              "      <th>Cabin</th>\n",
              "      <th>Embarked</th>\n",
              "    </tr>\n",
              "  </thead>\n",
              "  <tbody>\n",
              "    <tr>\n",
              "      <th>0</th>\n",
              "      <td>1</td>\n",
              "      <td>0</td>\n",
              "      <td>3</td>\n",
              "      <td>Braund, Mr. Owen Harris</td>\n",
              "      <td>male</td>\n",
              "      <td>22.0</td>\n",
              "      <td>1</td>\n",
              "      <td>0</td>\n",
              "      <td>A/5 21171</td>\n",
              "      <td>7.2500</td>\n",
              "      <td>NaN</td>\n",
              "      <td>S</td>\n",
              "    </tr>\n",
              "    <tr>\n",
              "      <th>1</th>\n",
              "      <td>2</td>\n",
              "      <td>1</td>\n",
              "      <td>1</td>\n",
              "      <td>Cumings, Mrs. John Bradley (Florence Briggs Th...</td>\n",
              "      <td>female</td>\n",
              "      <td>38.0</td>\n",
              "      <td>1</td>\n",
              "      <td>0</td>\n",
              "      <td>PC 17599</td>\n",
              "      <td>71.2833</td>\n",
              "      <td>C85</td>\n",
              "      <td>C</td>\n",
              "    </tr>\n",
              "    <tr>\n",
              "      <th>2</th>\n",
              "      <td>3</td>\n",
              "      <td>1</td>\n",
              "      <td>3</td>\n",
              "      <td>Heikkinen, Miss. Laina</td>\n",
              "      <td>female</td>\n",
              "      <td>26.0</td>\n",
              "      <td>0</td>\n",
              "      <td>0</td>\n",
              "      <td>STON/O2. 3101282</td>\n",
              "      <td>7.9250</td>\n",
              "      <td>NaN</td>\n",
              "      <td>S</td>\n",
              "    </tr>\n",
              "    <tr>\n",
              "      <th>3</th>\n",
              "      <td>4</td>\n",
              "      <td>1</td>\n",
              "      <td>1</td>\n",
              "      <td>Futrelle, Mrs. Jacques Heath (Lily May Peel)</td>\n",
              "      <td>female</td>\n",
              "      <td>35.0</td>\n",
              "      <td>1</td>\n",
              "      <td>0</td>\n",
              "      <td>113803</td>\n",
              "      <td>53.1000</td>\n",
              "      <td>C123</td>\n",
              "      <td>S</td>\n",
              "    </tr>\n",
              "    <tr>\n",
              "      <th>4</th>\n",
              "      <td>5</td>\n",
              "      <td>0</td>\n",
              "      <td>3</td>\n",
              "      <td>Allen, Mr. William Henry</td>\n",
              "      <td>male</td>\n",
              "      <td>35.0</td>\n",
              "      <td>0</td>\n",
              "      <td>0</td>\n",
              "      <td>373450</td>\n",
              "      <td>8.0500</td>\n",
              "      <td>NaN</td>\n",
              "      <td>S</td>\n",
              "    </tr>\n",
              "  </tbody>\n",
              "</table>\n",
              "</div>\n",
              "    <div class=\"colab-df-buttons\">\n",
              "\n",
              "  <div class=\"colab-df-container\">\n",
              "    <button class=\"colab-df-convert\" onclick=\"convertToInteractive('df-8d0c72be-f2c6-4261-b217-b413bab412d2')\"\n",
              "            title=\"Convert this dataframe to an interactive table.\"\n",
              "            style=\"display:none;\">\n",
              "\n",
              "  <svg xmlns=\"http://www.w3.org/2000/svg\" height=\"24px\" viewBox=\"0 -960 960 960\">\n",
              "    <path d=\"M120-120v-720h720v720H120Zm60-500h600v-160H180v160Zm220 220h160v-160H400v160Zm0 220h160v-160H400v160ZM180-400h160v-160H180v160Zm440 0h160v-160H620v160ZM180-180h160v-160H180v160Zm440 0h160v-160H620v160Z\"/>\n",
              "  </svg>\n",
              "    </button>\n",
              "\n",
              "  <style>\n",
              "    .colab-df-container {\n",
              "      display:flex;\n",
              "      gap: 12px;\n",
              "    }\n",
              "\n",
              "    .colab-df-convert {\n",
              "      background-color: #E8F0FE;\n",
              "      border: none;\n",
              "      border-radius: 50%;\n",
              "      cursor: pointer;\n",
              "      display: none;\n",
              "      fill: #1967D2;\n",
              "      height: 32px;\n",
              "      padding: 0 0 0 0;\n",
              "      width: 32px;\n",
              "    }\n",
              "\n",
              "    .colab-df-convert:hover {\n",
              "      background-color: #E2EBFA;\n",
              "      box-shadow: 0px 1px 2px rgba(60, 64, 67, 0.3), 0px 1px 3px 1px rgba(60, 64, 67, 0.15);\n",
              "      fill: #174EA6;\n",
              "    }\n",
              "\n",
              "    .colab-df-buttons div {\n",
              "      margin-bottom: 4px;\n",
              "    }\n",
              "\n",
              "    [theme=dark] .colab-df-convert {\n",
              "      background-color: #3B4455;\n",
              "      fill: #D2E3FC;\n",
              "    }\n",
              "\n",
              "    [theme=dark] .colab-df-convert:hover {\n",
              "      background-color: #434B5C;\n",
              "      box-shadow: 0px 1px 3px 1px rgba(0, 0, 0, 0.15);\n",
              "      filter: drop-shadow(0px 1px 2px rgba(0, 0, 0, 0.3));\n",
              "      fill: #FFFFFF;\n",
              "    }\n",
              "  </style>\n",
              "\n",
              "    <script>\n",
              "      const buttonEl =\n",
              "        document.querySelector('#df-8d0c72be-f2c6-4261-b217-b413bab412d2 button.colab-df-convert');\n",
              "      buttonEl.style.display =\n",
              "        google.colab.kernel.accessAllowed ? 'block' : 'none';\n",
              "\n",
              "      async function convertToInteractive(key) {\n",
              "        const element = document.querySelector('#df-8d0c72be-f2c6-4261-b217-b413bab412d2');\n",
              "        const dataTable =\n",
              "          await google.colab.kernel.invokeFunction('convertToInteractive',\n",
              "                                                    [key], {});\n",
              "        if (!dataTable) return;\n",
              "\n",
              "        const docLinkHtml = 'Like what you see? Visit the ' +\n",
              "          '<a target=\"_blank\" href=https://colab.research.google.com/notebooks/data_table.ipynb>data table notebook</a>'\n",
              "          + ' to learn more about interactive tables.';\n",
              "        element.innerHTML = '';\n",
              "        dataTable['output_type'] = 'display_data';\n",
              "        await google.colab.output.renderOutput(dataTable, element);\n",
              "        const docLink = document.createElement('div');\n",
              "        docLink.innerHTML = docLinkHtml;\n",
              "        element.appendChild(docLink);\n",
              "      }\n",
              "    </script>\n",
              "  </div>\n",
              "\n",
              "\n",
              "<div id=\"df-d4ac4967-9ceb-45ae-afbf-bd9c7b3681d9\">\n",
              "  <button class=\"colab-df-quickchart\" onclick=\"quickchart('df-d4ac4967-9ceb-45ae-afbf-bd9c7b3681d9')\"\n",
              "            title=\"Suggest charts.\"\n",
              "            style=\"display:none;\">\n",
              "\n",
              "<svg xmlns=\"http://www.w3.org/2000/svg\" height=\"24px\"viewBox=\"0 0 24 24\"\n",
              "     width=\"24px\">\n",
              "    <g>\n",
              "        <path d=\"M19 3H5c-1.1 0-2 .9-2 2v14c0 1.1.9 2 2 2h14c1.1 0 2-.9 2-2V5c0-1.1-.9-2-2-2zM9 17H7v-7h2v7zm4 0h-2V7h2v10zm4 0h-2v-4h2v4z\"/>\n",
              "    </g>\n",
              "</svg>\n",
              "  </button>\n",
              "\n",
              "<style>\n",
              "  .colab-df-quickchart {\n",
              "      --bg-color: #E8F0FE;\n",
              "      --fill-color: #1967D2;\n",
              "      --hover-bg-color: #E2EBFA;\n",
              "      --hover-fill-color: #174EA6;\n",
              "      --disabled-fill-color: #AAA;\n",
              "      --disabled-bg-color: #DDD;\n",
              "  }\n",
              "\n",
              "  [theme=dark] .colab-df-quickchart {\n",
              "      --bg-color: #3B4455;\n",
              "      --fill-color: #D2E3FC;\n",
              "      --hover-bg-color: #434B5C;\n",
              "      --hover-fill-color: #FFFFFF;\n",
              "      --disabled-bg-color: #3B4455;\n",
              "      --disabled-fill-color: #666;\n",
              "  }\n",
              "\n",
              "  .colab-df-quickchart {\n",
              "    background-color: var(--bg-color);\n",
              "    border: none;\n",
              "    border-radius: 50%;\n",
              "    cursor: pointer;\n",
              "    display: none;\n",
              "    fill: var(--fill-color);\n",
              "    height: 32px;\n",
              "    padding: 0;\n",
              "    width: 32px;\n",
              "  }\n",
              "\n",
              "  .colab-df-quickchart:hover {\n",
              "    background-color: var(--hover-bg-color);\n",
              "    box-shadow: 0 1px 2px rgba(60, 64, 67, 0.3), 0 1px 3px 1px rgba(60, 64, 67, 0.15);\n",
              "    fill: var(--button-hover-fill-color);\n",
              "  }\n",
              "\n",
              "  .colab-df-quickchart-complete:disabled,\n",
              "  .colab-df-quickchart-complete:disabled:hover {\n",
              "    background-color: var(--disabled-bg-color);\n",
              "    fill: var(--disabled-fill-color);\n",
              "    box-shadow: none;\n",
              "  }\n",
              "\n",
              "  .colab-df-spinner {\n",
              "    border: 2px solid var(--fill-color);\n",
              "    border-color: transparent;\n",
              "    border-bottom-color: var(--fill-color);\n",
              "    animation:\n",
              "      spin 1s steps(1) infinite;\n",
              "  }\n",
              "\n",
              "  @keyframes spin {\n",
              "    0% {\n",
              "      border-color: transparent;\n",
              "      border-bottom-color: var(--fill-color);\n",
              "      border-left-color: var(--fill-color);\n",
              "    }\n",
              "    20% {\n",
              "      border-color: transparent;\n",
              "      border-left-color: var(--fill-color);\n",
              "      border-top-color: var(--fill-color);\n",
              "    }\n",
              "    30% {\n",
              "      border-color: transparent;\n",
              "      border-left-color: var(--fill-color);\n",
              "      border-top-color: var(--fill-color);\n",
              "      border-right-color: var(--fill-color);\n",
              "    }\n",
              "    40% {\n",
              "      border-color: transparent;\n",
              "      border-right-color: var(--fill-color);\n",
              "      border-top-color: var(--fill-color);\n",
              "    }\n",
              "    60% {\n",
              "      border-color: transparent;\n",
              "      border-right-color: var(--fill-color);\n",
              "    }\n",
              "    80% {\n",
              "      border-color: transparent;\n",
              "      border-right-color: var(--fill-color);\n",
              "      border-bottom-color: var(--fill-color);\n",
              "    }\n",
              "    90% {\n",
              "      border-color: transparent;\n",
              "      border-bottom-color: var(--fill-color);\n",
              "    }\n",
              "  }\n",
              "</style>\n",
              "\n",
              "  <script>\n",
              "    async function quickchart(key) {\n",
              "      const quickchartButtonEl =\n",
              "        document.querySelector('#' + key + ' button');\n",
              "      quickchartButtonEl.disabled = true;  // To prevent multiple clicks.\n",
              "      quickchartButtonEl.classList.add('colab-df-spinner');\n",
              "      try {\n",
              "        const charts = await google.colab.kernel.invokeFunction(\n",
              "            'suggestCharts', [key], {});\n",
              "      } catch (error) {\n",
              "        console.error('Error during call to suggestCharts:', error);\n",
              "      }\n",
              "      quickchartButtonEl.classList.remove('colab-df-spinner');\n",
              "      quickchartButtonEl.classList.add('colab-df-quickchart-complete');\n",
              "    }\n",
              "    (() => {\n",
              "      let quickchartButtonEl =\n",
              "        document.querySelector('#df-d4ac4967-9ceb-45ae-afbf-bd9c7b3681d9 button');\n",
              "      quickchartButtonEl.style.display =\n",
              "        google.colab.kernel.accessAllowed ? 'block' : 'none';\n",
              "    })();\n",
              "  </script>\n",
              "</div>\n",
              "    </div>\n",
              "  </div>\n"
            ]
          },
          "metadata": {},
          "execution_count": 4
        }
      ]
    },
    {
      "cell_type": "code",
      "source": [
        "data_train.info()"
      ],
      "metadata": {
        "id": "z7z6FRUhnOou",
        "colab": {
          "base_uri": "https://localhost:8080/"
        },
        "outputId": "22ffb25f-139b-4b54-9779-25fe399d809b"
      },
      "execution_count": 33,
      "outputs": [
        {
          "output_type": "stream",
          "name": "stdout",
          "text": [
            "<class 'pandas.core.frame.DataFrame'>\n",
            "RangeIndex: 891 entries, 0 to 890\n",
            "Data columns (total 12 columns):\n",
            " #   Column       Non-Null Count  Dtype  \n",
            "---  ------       --------------  -----  \n",
            " 0   PassengerId  891 non-null    int64  \n",
            " 1   Survived     891 non-null    int64  \n",
            " 2   Pclass       891 non-null    int64  \n",
            " 3   Name         891 non-null    object \n",
            " 4   Sex          891 non-null    object \n",
            " 5   Age          714 non-null    float64\n",
            " 6   SibSp        891 non-null    int64  \n",
            " 7   Parch        891 non-null    int64  \n",
            " 8   Ticket       891 non-null    object \n",
            " 9   Fare         891 non-null    float64\n",
            " 10  Cabin        204 non-null    object \n",
            " 11  Embarked     889 non-null    object \n",
            "dtypes: float64(2), int64(5), object(5)\n",
            "memory usage: 83.7+ KB\n"
          ]
        }
      ]
    },
    {
      "cell_type": "code",
      "source": [
        "#chech for null values\n",
        "data_train.isnull().sum()"
      ],
      "metadata": {
        "id": "DKX6iXypnOmH",
        "colab": {
          "base_uri": "https://localhost:8080/"
        },
        "outputId": "58983dfa-1d40-4b64-bcbe-ada71f042edd"
      },
      "execution_count": 34,
      "outputs": [
        {
          "output_type": "execute_result",
          "data": {
            "text/plain": [
              "PassengerId      0\n",
              "Survived         0\n",
              "Pclass           0\n",
              "Name             0\n",
              "Sex              0\n",
              "Age            177\n",
              "SibSp            0\n",
              "Parch            0\n",
              "Ticket           0\n",
              "Fare             0\n",
              "Cabin          687\n",
              "Embarked         2\n",
              "dtype: int64"
            ]
          },
          "metadata": {},
          "execution_count": 34
        }
      ]
    },
    {
      "cell_type": "markdown",
      "source": [
        "Let us first visualize the number of survivors and death counts."
      ],
      "metadata": {
        "id": "HyYofb_01YcL"
      }
    },
    {
      "cell_type": "code",
      "source": [
        "f,ax = plt.subplots(1,2,figsize=(12,6))\n",
        "data_train['Survived'].value_counts().plot.pie(explode=[0,0.01],autopct ='%1.1f%%',ax=ax[0],shadow=False)\n",
        "ax[0].set_title('Survivors (1) and the dead (0)')\n",
        "ax[0].set_ylabel('')\n",
        "sns.countplot(x='Survived', data=data_train)\n",
        "ax[1].set_ylabel('Quantity')\n",
        "ax[1].set_title('Survivors (1) and the dead (0)')\n",
        "plt.show()"
      ],
      "metadata": {
        "id": "IT-GR_linOib",
        "colab": {
          "base_uri": "https://localhost:8080/",
          "height": 511
        },
        "outputId": "d35f3401-d062-4f12-d7ac-68fbb1e29e34"
      },
      "execution_count": 6,
      "outputs": [
        {
          "output_type": "display_data",
          "data": {
            "text/plain": [
              "<Figure size 1200x600 with 2 Axes>"
            ],
            "image/png": "[encoded data removed]"
          },
          "metadata": {}
        }
      ]
    },
    {
      "cell_type": "markdown",
      "source": [
        "Sex feature"
      ],
      "metadata": {
        "id": "i6t8X7Ut2K1R"
      }
    },
    {
      "cell_type": "code",
      "source": [],
      "metadata": {
        "id": "7IxTY_A2nOc3"
      },
      "execution_count": null,
      "outputs": []
    },
    {
      "cell_type": "code",
      "source": [
        "f, ax = plt.subplots(1, 2, figsize=(12, 4))\n",
        "data_train[['Sex', 'Survived']].groupby(['Sex']).mean().plot.bar(ax=ax[0])\n",
        "ax[0].set_title('Survivors by sex')\n",
        "sns.countplot(x = 'Sex', hue='Survived', data=data_train, ax=ax[1])\n",
        "ax[1].set_ylabel('Quantity')\n",
        "ax[1].set_title('Survived (1) and deceased (0): men and women')\n",
        "plt.show();"
      ],
      "metadata": {
        "id": "q048KRjKnOaB",
        "colab": {
          "base_uri": "https://localhost:8080/",
          "height": 391
        },
        "outputId": "07e5f56e-6536-461e-bbdc-bff9ec92f5cf"
      },
      "execution_count": 36,
      "outputs": [
        {
          "output_type": "display_data",
          "data": {
            "text/plain": [
              "<Figure size 1200x400 with 2 Axes>"
            ],
            "image/png": "[encoded data removed]"
          },
          "metadata": {}
        }
      ]
    },
    {
      "cell_type": "markdown",
      "source": [
        "Feature Engineering"
      ],
      "metadata": {
        "id": "xU9SAn6M2hyM"
      }
    },
    {
      "cell_type": "code",
      "source": [
        "# Create a new column cabinbool indicating\n",
        "# if the cabin value was given or was NaN\n",
        "data_train[\"CabinBool\"] = (data_train[\"Cabin\"].notnull().astype('int'))\n",
        "data_test[\"CabinBool\"] = (data_test[\"Cabin\"].notnull().astype('int'))\n",
        "\n",
        "# Delete the column 'Cabin' from test\n",
        "# and train dataset\n",
        "data_train = data_train.drop(['Cabin'], axis=1)\n",
        "data_test = data_test.drop(['Cabin'], axis=1)"
      ],
      "metadata": {
        "id": "Zj9w-uKKnOW1"
      },
      "execution_count": 37,
      "outputs": []
    },
    {
      "cell_type": "markdown",
      "source": [
        "We can also drop the Ticket feature since it’s unlikely to yield any useful information"
      ],
      "metadata": {
        "id": "2iC1DkhT3iAJ"
      }
    },
    {
      "cell_type": "code",
      "source": [
        "data_train = data_train.drop(['Ticket'], axis=1)\n",
        "data_test = data_test.drop(['Ticket'], axis=1)"
      ],
      "metadata": {
        "id": "_EqFpfUmnOUb"
      },
      "execution_count": 38,
      "outputs": []
    },
    {
      "cell_type": "markdown",
      "source": [
        "There are missing values in the Embarked feature. For that, we will replace the NULL values with ‘S’ as the number of Embarks for ‘S’ are higher than the other two."
      ],
      "metadata": {
        "id": "AaVFOVj73wS5"
      }
    },
    {
      "cell_type": "code",
      "source": [
        "# replacing the missing values in\n",
        "# the Embarked feature with S\n",
        "data_train = data_train.fillna({\"Embarked\": \"S\"})"
      ],
      "metadata": {
        "id": "bAlXXM_rnOR6"
      },
      "execution_count": 39,
      "outputs": []
    },
    {
      "cell_type": "markdown",
      "source": [
        "We will now sort the age into groups. We will combine the age groups of the people and categorize them into the same groups. BY doing so we will be having fewer categories and will have a better prediction since it will be a categorical dataset."
      ],
      "metadata": {
        "id": "QQQ9nqNB37Hy"
      }
    },
    {
      "cell_type": "code",
      "source": [
        "# sort the ages into logical categories\n",
        "data_train[\"Age\"] = data_train[\"Age\"].fillna(-0.5)\n",
        "data_test[\"Age\"] = data_test[\"Age\"].fillna(-0.5)\n",
        "bins = [-1, 0, 5, 12, 18, 24, 35, 60, np.inf]\n",
        "labels = ['Unknown', 'Baby', 'Child', 'Teenager',\n",
        "          'Student', 'Young Adult', 'Adult', 'Senior']\n",
        "data_train['AgeGroup'] = pd.cut(data_train[\"Age\"], bins, labels=labels)\n",
        "data_test['AgeGroup'] = pd.cut(data_test[\"Age\"], bins, labels=labels)"
      ],
      "metadata": {
        "id": "613MpBAknOPL"
      },
      "execution_count": 40,
      "outputs": []
    },
    {
      "cell_type": "markdown",
      "source": [
        "In the ‘title’ column for both the test and train set, we will categorize them into an equal number of classes. Then we will assign numerical values to the title for convenience of model training."
      ],
      "metadata": {
        "id": "Iw4KWcx14UbR"
      }
    },
    {
      "cell_type": "code",
      "source": [
        "from numpy.core.multiarray import datetime_as_string\n",
        "# create a combined group of both datasets\n",
        "combine = [data_train, data_test]\n",
        "\n",
        "# extract a title for each Name in the\n",
        "# train and test datasets\n",
        "for dataset in combine:\n",
        "    dataset['Title'] = dataset.Name.str.extract(' ([A-Za-z]+)\\.', expand=False)\n",
        "\n",
        "pd.crosstab(data_train['Title'], data_train['Sex'])\n",
        "\n",
        "# replace various titles with more common names\n",
        "for dataset in combine:\n",
        "    dataset['Title'] = dataset['Title'].replace(['Lady', 'Capt', 'Col',\n",
        "                                                 'Don', 'Dr', 'Major',\n",
        "                                                 'Rev', 'Jonkheer', 'Dona'],\n",
        "                                                'Rare')\n",
        "\n",
        "    dataset['Title'] = dataset['Title'].replace(\n",
        "        ['Countess', 'Lady', 'Sir'], 'Royal')\n",
        "    dataset['Title'] = dataset['Title'].replace('Mlle', 'Miss')\n",
        "    dataset['Title'] = dataset['Title'].replace('Ms', 'Miss')\n",
        "    dataset['Title'] = dataset['Title'].replace('Mme', 'Mrs')\n",
        "\n",
        "data_train[['Title', 'Survived']].groupby(['Title'], as_index=False).mean()\n",
        "\n",
        "# map each of the title groups to a numerical value\n",
        "title_mapping = {\"Mr\": 1, \"Miss\": 2, \"Mrs\": 3,\n",
        "                 \"Master\": 4, \"Royal\": 5, \"Rare\": 6}\n",
        "for dataset in combine:\n",
        "    dataset['Title'] = dataset['Title'].map(title_mapping)\n",
        "    dataset['Title'] = dataset['Title'].fillna(0)"
      ],
      "metadata": {
        "id": "Lk5dfaGYnOMj"
      },
      "execution_count": 43,
      "outputs": []
    },
    {
      "cell_type": "markdown",
      "source": [
        "Now using the title information we can fill in the missing age values."
      ],
      "metadata": {
        "id": "nVpBB8n-44wf"
      }
    },
    {
      "cell_type": "code",
      "source": [
        "mr_age = data_train[data_train[\"Title\"] == 1][\"AgeGroup\"].mode()  # Young Adult\n",
        "miss_age = data_train[data_train[\"Title\"] == 2][\"AgeGroup\"].mode()  # Student\n",
        "mrs_age = data_train[data_train[\"Title\"] == 3][\"AgeGroup\"].mode()  # Adult\n",
        "master_age = data_train[data_train[\"Title\"] == 4][\"AgeGroup\"].mode()  # Baby\n",
        "royal_age = data_train[data_train[\"Title\"] == 5][\"AgeGroup\"].mode()  # Adult\n",
        "rare_age = data_train[data_train[\"Title\"] == 6][\"AgeGroup\"].mode()  # Adult\n",
        "\n",
        "age_title_mapping = {1: \"Young Adult\", 2: \"Student\",\n",
        "                     3: \"Adult\", 4: \"Baby\", 5: \"Adult\", 6: \"Adult\"}\n",
        "\n",
        "for x in range(len(data_train[\"AgeGroup\"])):\n",
        "    if data_train[\"AgeGroup\"][x] == \"Unknown\":\n",
        "        data_train[\"AgeGroup\"][x] = age_title_mapping[data_train[\"Title\"][x]]\n",
        "\n",
        "for x in range(len(data_test[\"AgeGroup\"])):\n",
        "    if data_test[\"AgeGroup\"][x] == \"Unknown\":\n",
        "        data_test[\"AgeGroup\"][x] = age_title_mapping[data_test[\"Title\"][x]]"
      ],
      "metadata": {
        "id": "5Yg4Q9fvnOGE"
      },
      "execution_count": 44,
      "outputs": []
    },
    {
      "cell_type": "markdown",
      "source": [
        "Now assign a numerical value to each age category. Once we have mapped the age into different categories we do not need the age feature. Hence drop it"
      ],
      "metadata": {
        "id": "wZ1T_dXM5dMG"
      }
    },
    {
      "cell_type": "code",
      "source": [
        "# map each Age value to a numerical value\n",
        "age_mapping = {'Baby': 1, 'Child': 2, 'Teenager': 3,\n",
        "               'Student': 4, 'Young Adult': 5, 'Adult': 6,\n",
        "               'Senior': 7}\n",
        "data_train['AgeGroup'] = data_train['AgeGroup'].map(age_mapping)\n",
        "data_test['AgeGroup'] = data_test['AgeGroup'].map(age_mapping)\n",
        "\n",
        "data_train.head()\n",
        "\n",
        "# dropping the Age feature for now, might change\n",
        "train = data_train.drop(['Age'], axis=1)\n",
        "test = data_test.drop(['Age'], axis=1)"
      ],
      "metadata": {
        "id": "JworvP_n429c"
      },
      "execution_count": 45,
      "outputs": []
    },
    {
      "cell_type": "markdown",
      "source": [
        "Drop the name feature since it contains no more useful information."
      ],
      "metadata": {
        "id": "qWI2LF3153ar"
      }
    },
    {
      "cell_type": "code",
      "source": [
        "train = train.drop(['Name'], axis=1)\n",
        "test = test.drop(['Name'], axis=1)"
      ],
      "metadata": {
        "id": "hFSlJGaJ51sF"
      },
      "execution_count": 46,
      "outputs": []
    },
    {
      "cell_type": "markdown",
      "source": [
        "Assign numerical values to sex and embarks categories\\"
      ],
      "metadata": {
        "id": "FFIR390L57Yg"
      }
    },
    {
      "cell_type": "code",
      "source": [
        "sex_mapping = {\"male\": 0, \"female\": 1}\n",
        "train['Sex'] = train['Sex'].map(sex_mapping)\n",
        "test['Sex'] = test['Sex'].map(sex_mapping)\n",
        "\n",
        "embarked_mapping = {\"S\": 1, \"C\": 2, \"Q\": 3}\n",
        "train['Embarked'] = train['Embarked'].map(embarked_mapping)\n",
        "test['Embarked'] = test['Embarked'].map(embarked_mapping)"
      ],
      "metadata": {
        "id": "XTl7WUGT51pN"
      },
      "execution_count": 47,
      "outputs": []
    },
    {
      "cell_type": "markdown",
      "source": [
        "Fill in the missing Fare value in the test set based on the mean fare for that P-class"
      ],
      "metadata": {
        "id": "KTS0rUTB6AnZ"
      }
    },
    {
      "cell_type": "code",
      "source": [
        "for x in range(len(test[\"Fare\"])):\n",
        "    if pd.isnull(test[\"Fare\"][x]):\n",
        "        pclass = test[\"Pclass\"][x]  # Pclass = 3\n",
        "        test[\"Fare\"][x] = round(\n",
        "            train[train[\"Pclass\"] == pclass][\"Fare\"].mean(), 4)\n",
        "\n",
        "# map Fare values into groups of\n",
        "# numerical values\n",
        "train['FareBand'] = pd.qcut(train['Fare'], 4,\n",
        "                            labels=[1, 2, 3, 4])\n",
        "test['FareBand'] = pd.qcut(test['Fare'], 4,\n",
        "                           labels=[1, 2, 3, 4])\n",
        "\n",
        "# drop Fare values\n",
        "train = train.drop(['Fare'], axis=1)\n",
        "test = test.drop(['Fare'], axis=1)"
      ],
      "metadata": {
        "id": "-G3U_7ke51l_"
      },
      "execution_count": 48,
      "outputs": []
    },
    {
      "cell_type": "markdown",
      "source": [
        "**Model Training**\n",
        "\n",
        "\n",
        "We will be using Random forest as the algorithm of choice to perform model training. Before that, we will split the data in an 80:20 ratio as a train-test split. For that, we will use the train_test_split() from the sklearn library."
      ],
      "metadata": {
        "id": "o_CHirIt6HPF"
      }
    },
    {
      "cell_type": "code",
      "source": [
        "# Drop the Survived and PassengerId\n",
        "# column from the trainset\n",
        "predictors = train.drop(['Survived', 'PassengerId'], axis=1)\n",
        "target = train[\"Survived\"]\n",
        "x_train, x_val, y_train, y_val = train_test_split(\n",
        "    predictors, target, test_size=0.2, random_state=0)"
      ],
      "metadata": {
        "id": "dTQ5QjJD51jg"
      },
      "execution_count": 49,
      "outputs": []
    },
    {
      "cell_type": "code",
      "source": [
        "randomforest = RandomForestClassifier()\n",
        "\n",
        "# Fit the training data along with its output\n",
        "randomforest.fit(x_train, y_train)\n",
        "y_pred = randomforest.predict(x_val)\n",
        "\n",
        "# Find the accuracy score of the model\n",
        "acc_randomforest = round(accuracy_score(y_pred, y_val) * 100, 2)\n",
        "print(acc_randomforest)"
      ],
      "metadata": {
        "colab": {
          "base_uri": "https://localhost:8080/"
        },
        "id": "GVg_W2bp51gy",
        "outputId": "34f8d385-00d4-48dc-ef16-ca337b7243cd"
      },
      "execution_count": 50,
      "outputs": [
        {
          "output_type": "stream",
          "name": "stdout",
          "text": [
            "85.47\n"
          ]
        }
      ]
    },
    {
      "cell_type": "markdown",
      "source": [
        "**Prediction**\n",
        "\n",
        "\n",
        "We are provided with the testing dataset on which we have to perform the prediction. To predict, we will pass the test dataset into our trained model and save it into a CSV file containing the information, passengerid and survival. PassengerId will be the passengerid of the passengers in the test data and the survival will column will be either 0 or 1."
      ],
      "metadata": {
        "id": "72ZuFXqA6b-5"
      }
    },
    {
      "cell_type": "code",
      "source": [
        "ids = test['PassengerId']\n",
        "predictions = randomforest.predict(test.drop('PassengerId', axis=1))\n",
        "\n",
        "# set the output as a dataframe and convert\n",
        "# to csv file named resultfile.csv\n",
        "output = pd.DataFrame({'PassengerId': ids, 'Survived': predictions})\n",
        "output.to_csv('resultfile.csv', index=False)"
      ],
      "metadata": {
        "id": "mYaqQDAk51cc"
      },
      "execution_count": 51,
      "outputs": []
    },
    {
      "cell_type": "code",
      "source": [],
      "metadata": {
        "id": "vdahAJaI51Zl"
      },
      "execution_count": null,
      "outputs": []
    },
    {
      "cell_type": "code",
      "source": [],
      "metadata": {
        "id": "whKlMqGl51Tz"
      },
      "execution_count": null,
      "outputs": []
    }
  ]
}